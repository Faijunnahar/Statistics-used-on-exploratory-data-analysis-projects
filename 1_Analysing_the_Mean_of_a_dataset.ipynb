{
  "cells": [
    {
      "cell_type": "markdown",
      "metadata": {
        "id": "view-in-github",
        "colab_type": "text"
      },
      "source": [
        "<a href=\"https://colab.research.google.com/github/Faijunnahar/Statistics-used-on-exploratory-data-analysis-projects/blob/main/1_Analysing_the_Mean_of_a_dataset.ipynb\" target=\"_parent\"><img src=\"https://colab.research.google.com/assets/colab-badge.svg\" alt=\"Open In Colab\"/></a>"
      ]
    },
    {
      "cell_type": "markdown",
      "metadata": {
        "id": "WuEqVNQVsRzq"
      },
      "source": [
        "#### Import relevant libraries"
      ],
      "id": "WuEqVNQVsRzq"
    },
    {
      "cell_type": "code",
      "execution_count": null,
      "metadata": {
        "id": "6Fy96NUHsRzt"
      },
      "outputs": [],
      "source": [
        "import numpy as np\n",
        "import pandas as pd"
      ],
      "id": "6Fy96NUHsRzt"
    },
    {
      "cell_type": "markdown",
      "metadata": {
        "id": "XpThe1zcsRzu"
      },
      "source": [
        "#### Load data into dataframe"
      ],
      "id": "XpThe1zcsRzu"
    },
    {
      "cell_type": "code",
      "execution_count": null,
      "metadata": {
        "id": "aY_llpv3sRzv"
      },
      "outputs": [],
      "source": [
        "covid_data = pd.read_csv(\"data/covid-data.csv\")\n",
        "#"
      ],
      "id": "aY_llpv3sRzv"
    },
    {
      "cell_type": "markdown",
      "metadata": {
        "id": "Hf1olK7TsRzv"
      },
      "source": [
        "#### Inspect the dataframe"
      ],
      "id": "Hf1olK7TsRzv"
    },
    {
      "cell_type": "code",
      "execution_count": null,
      "metadata": {
        "id": "BMB8ff4usRzv",
        "outputId": "a0025ee8-f740-4cba-8659-7fe52ffb8e10"
      },
      "outputs": [
        {
          "data": {
            "text/html": [
              "<div>\n",
              "<style scoped>\n",
              "    .dataframe tbody tr th:only-of-type {\n",
              "        vertical-align: middle;\n",
              "    }\n",
              "\n",
              "    .dataframe tbody tr th {\n",
              "        vertical-align: top;\n",
              "    }\n",
              "\n",
              "    .dataframe thead th {\n",
              "        text-align: right;\n",
              "    }\n",
              "</style>\n",
              "<table border=\"1\" class=\"dataframe\">\n",
              "  <thead>\n",
              "    <tr style=\"text-align: right;\">\n",
              "      <th></th>\n",
              "      <th>iso_code</th>\n",
              "      <th>continent</th>\n",
              "      <th>location</th>\n",
              "      <th>date</th>\n",
              "      <th>total_cases</th>\n",
              "      <th>new_cases</th>\n",
              "      <th>new_cases_smoothed</th>\n",
              "      <th>total_deaths</th>\n",
              "      <th>new_deaths</th>\n",
              "      <th>new_deaths_smoothed</th>\n",
              "      <th>...</th>\n",
              "      <th>female_smokers</th>\n",
              "      <th>male_smokers</th>\n",
              "      <th>handwashing_facilities</th>\n",
              "      <th>hospital_beds_per_thousand</th>\n",
              "      <th>life_expectancy</th>\n",
              "      <th>human_development_index</th>\n",
              "      <th>excess_mortality_cumulative_absolute</th>\n",
              "      <th>excess_mortality_cumulative</th>\n",
              "      <th>excess_mortality</th>\n",
              "      <th>excess_mortality_cumulative_per_million</th>\n",
              "    </tr>\n",
              "  </thead>\n",
              "  <tbody>\n",
              "    <tr>\n",
              "      <th>0</th>\n",
              "      <td>AFG</td>\n",
              "      <td>Asia</td>\n",
              "      <td>Afghanistan</td>\n",
              "      <td>24/02/2020</td>\n",
              "      <td>5</td>\n",
              "      <td>5</td>\n",
              "      <td>NaN</td>\n",
              "      <td>NaN</td>\n",
              "      <td>NaN</td>\n",
              "      <td>NaN</td>\n",
              "      <td>...</td>\n",
              "      <td>NaN</td>\n",
              "      <td>NaN</td>\n",
              "      <td>37.746</td>\n",
              "      <td>0.5</td>\n",
              "      <td>64.83</td>\n",
              "      <td>0.511</td>\n",
              "      <td>NaN</td>\n",
              "      <td>NaN</td>\n",
              "      <td>NaN</td>\n",
              "      <td>NaN</td>\n",
              "    </tr>\n",
              "    <tr>\n",
              "      <th>1</th>\n",
              "      <td>AFG</td>\n",
              "      <td>Asia</td>\n",
              "      <td>Afghanistan</td>\n",
              "      <td>25/02/2020</td>\n",
              "      <td>5</td>\n",
              "      <td>0</td>\n",
              "      <td>NaN</td>\n",
              "      <td>NaN</td>\n",
              "      <td>NaN</td>\n",
              "      <td>NaN</td>\n",
              "      <td>...</td>\n",
              "      <td>NaN</td>\n",
              "      <td>NaN</td>\n",
              "      <td>37.746</td>\n",
              "      <td>0.5</td>\n",
              "      <td>64.83</td>\n",
              "      <td>0.511</td>\n",
              "      <td>NaN</td>\n",
              "      <td>NaN</td>\n",
              "      <td>NaN</td>\n",
              "      <td>NaN</td>\n",
              "    </tr>\n",
              "    <tr>\n",
              "      <th>2</th>\n",
              "      <td>AFG</td>\n",
              "      <td>Asia</td>\n",
              "      <td>Afghanistan</td>\n",
              "      <td>26/02/2020</td>\n",
              "      <td>5</td>\n",
              "      <td>0</td>\n",
              "      <td>NaN</td>\n",
              "      <td>NaN</td>\n",
              "      <td>NaN</td>\n",
              "      <td>NaN</td>\n",
              "      <td>...</td>\n",
              "      <td>NaN</td>\n",
              "      <td>NaN</td>\n",
              "      <td>37.746</td>\n",
              "      <td>0.5</td>\n",
              "      <td>64.83</td>\n",
              "      <td>0.511</td>\n",
              "      <td>NaN</td>\n",
              "      <td>NaN</td>\n",
              "      <td>NaN</td>\n",
              "      <td>NaN</td>\n",
              "    </tr>\n",
              "    <tr>\n",
              "      <th>3</th>\n",
              "      <td>AFG</td>\n",
              "      <td>Asia</td>\n",
              "      <td>Afghanistan</td>\n",
              "      <td>27/02/2020</td>\n",
              "      <td>5</td>\n",
              "      <td>0</td>\n",
              "      <td>NaN</td>\n",
              "      <td>NaN</td>\n",
              "      <td>NaN</td>\n",
              "      <td>NaN</td>\n",
              "      <td>...</td>\n",
              "      <td>NaN</td>\n",
              "      <td>NaN</td>\n",
              "      <td>37.746</td>\n",
              "      <td>0.5</td>\n",
              "      <td>64.83</td>\n",
              "      <td>0.511</td>\n",
              "      <td>NaN</td>\n",
              "      <td>NaN</td>\n",
              "      <td>NaN</td>\n",
              "      <td>NaN</td>\n",
              "    </tr>\n",
              "    <tr>\n",
              "      <th>4</th>\n",
              "      <td>AFG</td>\n",
              "      <td>Asia</td>\n",
              "      <td>Afghanistan</td>\n",
              "      <td>28/02/2020</td>\n",
              "      <td>5</td>\n",
              "      <td>0</td>\n",
              "      <td>NaN</td>\n",
              "      <td>NaN</td>\n",
              "      <td>NaN</td>\n",
              "      <td>NaN</td>\n",
              "      <td>...</td>\n",
              "      <td>NaN</td>\n",
              "      <td>NaN</td>\n",
              "      <td>37.746</td>\n",
              "      <td>0.5</td>\n",
              "      <td>64.83</td>\n",
              "      <td>0.511</td>\n",
              "      <td>NaN</td>\n",
              "      <td>NaN</td>\n",
              "      <td>NaN</td>\n",
              "      <td>NaN</td>\n",
              "    </tr>\n",
              "  </tbody>\n",
              "</table>\n",
              "<p>5 rows × 67 columns</p>\n",
              "</div>"
            ],
            "text/plain": [
              "  iso_code continent     location        date  total_cases  new_cases  \\\n",
              "0      AFG      Asia  Afghanistan  24/02/2020            5          5   \n",
              "1      AFG      Asia  Afghanistan  25/02/2020            5          0   \n",
              "2      AFG      Asia  Afghanistan  26/02/2020            5          0   \n",
              "3      AFG      Asia  Afghanistan  27/02/2020            5          0   \n",
              "4      AFG      Asia  Afghanistan  28/02/2020            5          0   \n",
              "\n",
              "   new_cases_smoothed  total_deaths  new_deaths  new_deaths_smoothed  ...  \\\n",
              "0                 NaN           NaN         NaN                  NaN  ...   \n",
              "1                 NaN           NaN         NaN                  NaN  ...   \n",
              "2                 NaN           NaN         NaN                  NaN  ...   \n",
              "3                 NaN           NaN         NaN                  NaN  ...   \n",
              "4                 NaN           NaN         NaN                  NaN  ...   \n",
              "\n",
              "   female_smokers  male_smokers  handwashing_facilities  \\\n",
              "0             NaN           NaN                  37.746   \n",
              "1             NaN           NaN                  37.746   \n",
              "2             NaN           NaN                  37.746   \n",
              "3             NaN           NaN                  37.746   \n",
              "4             NaN           NaN                  37.746   \n",
              "\n",
              "   hospital_beds_per_thousand  life_expectancy  human_development_index  \\\n",
              "0                         0.5            64.83                    0.511   \n",
              "1                         0.5            64.83                    0.511   \n",
              "2                         0.5            64.83                    0.511   \n",
              "3                         0.5            64.83                    0.511   \n",
              "4                         0.5            64.83                    0.511   \n",
              "\n",
              "   excess_mortality_cumulative_absolute  excess_mortality_cumulative  \\\n",
              "0                                   NaN                          NaN   \n",
              "1                                   NaN                          NaN   \n",
              "2                                   NaN                          NaN   \n",
              "3                                   NaN                          NaN   \n",
              "4                                   NaN                          NaN   \n",
              "\n",
              "   excess_mortality  excess_mortality_cumulative_per_million  \n",
              "0               NaN                                      NaN  \n",
              "1               NaN                                      NaN  \n",
              "2               NaN                                      NaN  \n",
              "3               NaN                                      NaN  \n",
              "4               NaN                                      NaN  \n",
              "\n",
              "[5 rows x 67 columns]"
            ]
          },
          "execution_count": 3,
          "metadata": {},
          "output_type": "execute_result"
        }
      ],
      "source": [
        "covid_data.head(5)"
      ],
      "id": "BMB8ff4usRzv"
    },
    {
      "cell_type": "code",
      "execution_count": null,
      "metadata": {
        "id": "AiAgY6P5sRzw"
      },
      "outputs": [],
      "source": [
        "covid_data = covid_data[['iso_code','continent','location','date','total_cases','new_cases']]"
      ],
      "id": "AiAgY6P5sRzw"
    },
    {
      "cell_type": "code",
      "execution_count": null,
      "metadata": {
        "scrolled": true,
        "id": "3Zp9JmJIsRzw",
        "outputId": "d76cde12-44c9-49af-b6b3-7a30a1b0ab0f"
      },
      "outputs": [
        {
          "data": {
            "text/html": [
              "<div>\n",
              "<style scoped>\n",
              "    .dataframe tbody tr th:only-of-type {\n",
              "        vertical-align: middle;\n",
              "    }\n",
              "\n",
              "    .dataframe tbody tr th {\n",
              "        vertical-align: top;\n",
              "    }\n",
              "\n",
              "    .dataframe thead th {\n",
              "        text-align: right;\n",
              "    }\n",
              "</style>\n",
              "<table border=\"1\" class=\"dataframe\">\n",
              "  <thead>\n",
              "    <tr style=\"text-align: right;\">\n",
              "      <th></th>\n",
              "      <th>iso_code</th>\n",
              "      <th>continent</th>\n",
              "      <th>location</th>\n",
              "      <th>date</th>\n",
              "      <th>total_cases</th>\n",
              "      <th>new_cases</th>\n",
              "    </tr>\n",
              "  </thead>\n",
              "  <tbody>\n",
              "    <tr>\n",
              "      <th>0</th>\n",
              "      <td>AFG</td>\n",
              "      <td>Asia</td>\n",
              "      <td>Afghanistan</td>\n",
              "      <td>24/02/2020</td>\n",
              "      <td>5</td>\n",
              "      <td>5</td>\n",
              "    </tr>\n",
              "    <tr>\n",
              "      <th>1</th>\n",
              "      <td>AFG</td>\n",
              "      <td>Asia</td>\n",
              "      <td>Afghanistan</td>\n",
              "      <td>25/02/2020</td>\n",
              "      <td>5</td>\n",
              "      <td>0</td>\n",
              "    </tr>\n",
              "    <tr>\n",
              "      <th>2</th>\n",
              "      <td>AFG</td>\n",
              "      <td>Asia</td>\n",
              "      <td>Afghanistan</td>\n",
              "      <td>26/02/2020</td>\n",
              "      <td>5</td>\n",
              "      <td>0</td>\n",
              "    </tr>\n",
              "    <tr>\n",
              "      <th>3</th>\n",
              "      <td>AFG</td>\n",
              "      <td>Asia</td>\n",
              "      <td>Afghanistan</td>\n",
              "      <td>27/02/2020</td>\n",
              "      <td>5</td>\n",
              "      <td>0</td>\n",
              "    </tr>\n",
              "    <tr>\n",
              "      <th>4</th>\n",
              "      <td>AFG</td>\n",
              "      <td>Asia</td>\n",
              "      <td>Afghanistan</td>\n",
              "      <td>28/02/2020</td>\n",
              "      <td>5</td>\n",
              "      <td>0</td>\n",
              "    </tr>\n",
              "  </tbody>\n",
              "</table>\n",
              "</div>"
            ],
            "text/plain": [
              "  iso_code continent     location        date  total_cases  new_cases\n",
              "0      AFG      Asia  Afghanistan  24/02/2020            5          5\n",
              "1      AFG      Asia  Afghanistan  25/02/2020            5          0\n",
              "2      AFG      Asia  Afghanistan  26/02/2020            5          0\n",
              "3      AFG      Asia  Afghanistan  27/02/2020            5          0\n",
              "4      AFG      Asia  Afghanistan  28/02/2020            5          0"
            ]
          },
          "execution_count": 5,
          "metadata": {},
          "output_type": "execute_result"
        }
      ],
      "source": [
        "covid_data.head(5)"
      ],
      "id": "3Zp9JmJIsRzw"
    },
    {
      "cell_type": "code",
      "execution_count": null,
      "metadata": {
        "scrolled": true,
        "id": "716tvhjDsRz3",
        "outputId": "1124652d-32e5-4442-f151-ddf08ebf3403"
      },
      "outputs": [
        {
          "data": {
            "text/plain": [
              "iso_code       object\n",
              "continent      object\n",
              "location       object\n",
              "date           object\n",
              "total_cases     int64\n",
              "new_cases       int64\n",
              "dtype: object"
            ]
          },
          "execution_count": 6,
          "metadata": {},
          "output_type": "execute_result"
        }
      ],
      "source": [
        "covid_data.dtypes"
      ],
      "id": "716tvhjDsRz3"
    },
    {
      "cell_type": "code",
      "execution_count": null,
      "metadata": {
        "id": "z8uJTdpFsRz3",
        "outputId": "1753356b-6328-4673-d01a-9551044db3da"
      },
      "outputs": [
        {
          "data": {
            "text/plain": [
              "(5818, 6)"
            ]
          },
          "execution_count": 7,
          "metadata": {},
          "output_type": "execute_result"
        }
      ],
      "source": [
        "covid_data.shape"
      ],
      "id": "z8uJTdpFsRz3"
    },
    {
      "cell_type": "markdown",
      "metadata": {
        "id": "Ctmh4qqfsRz3"
      },
      "source": [
        "#### Analyse the mean of the new_cases column using the mean method in numpy"
      ],
      "id": "Ctmh4qqfsRz3"
    },
    {
      "cell_type": "code",
      "execution_count": null,
      "metadata": {
        "id": "WMmiWJ2esRz4",
        "outputId": "2597d62c-f1d8-43ef-a901-dfa6020622c5"
      },
      "outputs": [
        {
          "data": {
            "text/plain": [
              "8814.365761430045"
            ]
          },
          "execution_count": 8,
          "metadata": {},
          "output_type": "execute_result"
        }
      ],
      "source": [
        "data_mean = np.mean(covid_data[\"new_cases\"])\n",
        "data_mean"
      ],
      "id": "WMmiWJ2esRz4"
    },
    {
      "cell_type": "markdown",
      "metadata": {
        "id": "olu54x96sRz5"
      },
      "source": [
        "#### Analyse the mean of the new_cases column using the mean method in pandas"
      ],
      "id": "olu54x96sRz5"
    },
    {
      "cell_type": "code",
      "execution_count": null,
      "metadata": {
        "id": "juTLH_rysRz6",
        "outputId": "b4e36733-6ef1-4c7d-f226-263fc50bc7ea"
      },
      "outputs": [
        {
          "data": {
            "text/plain": [
              "8814.365761430045"
            ]
          },
          "execution_count": 9,
          "metadata": {},
          "output_type": "execute_result"
        }
      ],
      "source": [
        "data_mean = covid_data[\"new_cases\"].mean()\n",
        "data_mean"
      ],
      "id": "juTLH_rysRz6"
    }
  ],
  "metadata": {
    "kernelspec": {
      "display_name": "Python 3",
      "language": "python",
      "name": "python3"
    },
    "language_info": {
      "codemirror_mode": {
        "name": "ipython",
        "version": 3
      },
      "file_extension": ".py",
      "mimetype": "text/x-python",
      "name": "python",
      "nbconvert_exporter": "python",
      "pygments_lexer": "ipython3",
      "version": "3.7.1"
    },
    "colab": {
      "provenance": [],
      "include_colab_link": true
    }
  },
  "nbformat": 4,
  "nbformat_minor": 5
}